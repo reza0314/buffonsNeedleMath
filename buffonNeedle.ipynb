{
 "cells": [
  {
   "attachments": {},
   "cell_type": "markdown",
   "metadata": {},
   "source": [
    "# Buffon`s needle\n",
    "### Name: Seyed Mohammad Amin Sadat\n",
    "### Student number: 401436077\n",
    "### Course: Advanced Mathematics\n",
    "\n",
    "For this problem the needle length is l,x is the minimum distance between lines and middle of the needles, $\\theta$ is the angle between lines and needle and d is the distance between two parallel lines.\n",
    "For this problem we have:\n",
    "$$\n",
    "0 \\leq x     \\leq \\frac{d}{2}\\\\ \n",
    "$$\n",
    "$$\n",
    "0 \\leq \\theta \\leq \\frac{\\pi}{2}\n",
    "$$\n",
    "The distribution is normal so we have:\n",
    "$$\n",
    "p(x) = \\frac{1}{b-a} \\quad for \\quad a \\leq x \\leq b\n",
    "$$\n",
    "So we have:\n",
    "$$\n",
    "p_{x}(x) = \n",
    "    \\begin{cases}\n",
    "        \\frac{2}{d} & : 0 \\le x \\le \\frac{2}{d} \\\\\n",
    "        0  & : elsewhere\n",
    "    \\end{cases}\n",
    "\\\\\n",
    "p_{\\theta}(x) = \n",
    "    \\begin{cases}\n",
    "        \\frac{2}{\\pi}  & : 0 \\le \\theta \\le \\frac{\\pi}{2}\\\\\n",
    "    0 & : elsewhere\n",
    "    \\end{cases}\n",
    "$$\n",
    "The random variables x and $\\theta$ are independent so the joint probability density function is the product of two functions:\n",
    "$$\n",
    "p_{x,\\theta}(x) = \n",
    "    \\begin{cases}\n",
    "        \\frac{4}{\\pi d}  & : 0 \\le \\theta \\le \\frac{\\pi}{2},0 \\le x \\le \\frac{2}{d}\\\\\n",
    "    0 & : elsewhere\n",
    "    \\end{cases}\n",
    "$$\n",
    "\n",
    "The needles we intersect the line if:\n",
    "$$\n",
    "    x\\le \\frac{l}{2}\\sin(\\theta)\n",
    "$$\n",
    "\n",
    "## Case 1: Short needles $(l \\le d)$\n",
    "By integrating the joint probability density function over the specified limits we have:\n",
    "$$\n",
    "Pr = \\int_{\\theta = 0}^{\\frac{pi}{2}}\\int_{x=0}^{\\frac{d}{2}\\sin(\\theta)} \\frac{4}{\\pi d}dxd\\theta = \\frac{2l}{d\\pi}\n",
    "$$\n",
    "\n",
    "## Case 2 : Long needles $(l > d)$\n",
    "Let f(x) be:\n",
    "$$\n",
    "f(x) = min(\\frac{l}{2}\\sin(\\theta),\\frac{d}{2})\n",
    "$$\n",
    "Then we have:\n",
    "$$\n",
    "Pr = \\int_{\\theta = 0}^{\\frac{pi}{2}}\\int_{x=0}^{f(x)} \\frac{4}{\\pi d}dxd\\theta\n",
    "$$\n",
    "By integrating this equation we have the probability as:\n",
    "$$\n",
    "Pr = \\frac{2}{\\pi}\\left\\{\\cos^{-1}(\\frac{d}{l})+\\frac{l}{d}\\left\\{1-\\sqrt{1-(\\frac{d}{l})^{2}}\\right\\}\\right\\}\n",
    "$$"
   ]
  },
  {
   "cell_type": "code",
   "execution_count": 264,
   "metadata": {},
   "outputs": [],
   "source": [
    "from numpy import random\n",
    "from numpy import pi as PI\n",
    "from matplotlib import pyplot as plt\n",
    "from numpy import arccos,cos,sqrt,sin"
   ]
  },
  {
   "attachments": {},
   "cell_type": "markdown",
   "metadata": {},
   "source": [
    "Variables"
   ]
  },
  {
   "cell_type": "code",
   "execution_count": 265,
   "metadata": {},
   "outputs": [],
   "source": [
    "experimentNumber = 4000\n",
    "needleLength = 0.6\n",
    "lineDistance = 0.4\n",
    "\n",
    "theta = random.uniform(0,PI/2,experimentNumber)\n",
    "middleDistance = random.uniform(0,lineDistance/2,experimentNumber)\n",
    "lenRatio = needleLength/lineDistance"
   ]
  },
  {
   "attachments": {},
   "cell_type": "markdown",
   "metadata": {},
   "source": [
    "### Calculations"
   ]
  },
  {
   "cell_type": "code",
   "execution_count": 266,
   "metadata": {},
   "outputs": [],
   "source": [
    "intersectionNumber = 0\n",
    "for i in range(0,experimentNumber):\n",
    "    if lenRatio <= 1:\n",
    "        if middleDistance[i] <= (needleLength/2)*sin(theta[i]):\n",
    "            intersectionNumber += 1\n",
    "    else :\n",
    "        if middleDistance[i] <= min((needleLength/2)*sin(theta[i]),lineDistance/2):\n",
    "            intersectionNumber += 1\n",
    "        \n",
    "        \n",
    "intersectionProbability = intersectionNumber/experimentNumber"
   ]
  },
  {
   "attachments": {},
   "cell_type": "markdown",
   "metadata": {},
   "source": [
    "### Estimating $\\pi$\n",
    "1. Count the intersections and calculate the probability \n",
    "2. find the estimate for $\\pi$ with the formulas for the two cases "
   ]
  },
  {
   "cell_type": "code",
   "execution_count": 267,
   "metadata": {},
   "outputs": [
    {
     "name": "stdout",
     "output_type": "stream",
     "text": [
      "Estimated PI is 3.1460699210753313\n"
     ]
    }
   ],
   "source": [
    "piCoefficient = lenRatio if lenRatio<=1 else (lenRatio-sqrt(lenRatio*lenRatio-1)+arccos(1/lenRatio))\n",
    "estimatedPi = 2*piCoefficient/intersectionProbability\n",
    "print(f'Estimated PI is {estimatedPi}')\n"
   ]
  }
 ],
 "metadata": {
  "kernelspec": {
   "display_name": "Python 3",
   "language": "python",
   "name": "python3"
  },
  "language_info": {
   "codemirror_mode": {
    "name": "ipython",
    "version": 3
   },
   "file_extension": ".py",
   "mimetype": "text/x-python",
   "name": "python",
   "nbconvert_exporter": "python",
   "pygments_lexer": "ipython3",
   "version": "3.10.5"
  },
  "orig_nbformat": 4,
  "vscode": {
   "interpreter": {
    "hash": "e593ac106456af50ce7af38f9671c411b49d6cd90f9b885e167f0f594e09038c"
   }
  }
 },
 "nbformat": 4,
 "nbformat_minor": 2
}
